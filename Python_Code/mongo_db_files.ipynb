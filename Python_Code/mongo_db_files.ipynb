{
 "cells": [
  {
   "cell_type": "code",
   "execution_count": 2,
   "metadata": {},
   "outputs": [],
   "source": [
    "import pandas as pd"
   ]
  },
  {
   "cell_type": "code",
   "execution_count": 3,
   "metadata": {},
   "outputs": [],
   "source": [
    "#read in top 100 lists\n",
    "pizza = pd.read_csv(\"../csv_repository/Top_100_Each_Category/Top_100_NYStyle_Pizza.csv\")\n",
    "bagel = pd.read_csv(\"../csv_repository/Top_100_Each_Category/Top_100_NYStyle_Bagel.csv\")\n",
    "deli = pd.read_csv(\"../csv_repository/Top_100_Each_Category/Top_100_NYStyle_Deli.csv\")\n",
    "streetfood = pd.read_csv(\"../csv_repository/Top_100_Each_Category/Top_100_NY_streetvendors.csv\")"
   ]
  },
  {
   "cell_type": "code",
   "execution_count": 4,
   "metadata": {},
   "outputs": [],
   "source": [
    "#combine all four lists to make one large list\n",
    "top_100 = pd.concat([pizza, bagel, deli, streetfood])\n",
    "top_100 = top_100.drop(columns=[\"Unnamed: 0\"])\n",
    "top_100.to_csv(\"../csv_repository/Overall_List/Top_100_NY_Day.csv\", index=False)"
   ]
  },
  {
   "cell_type": "code",
   "execution_count": 5,
   "metadata": {},
   "outputs": [
    {
     "data": {
      "text/html": [
       "<div>\n",
       "<style scoped>\n",
       "    .dataframe tbody tr th:only-of-type {\n",
       "        vertical-align: middle;\n",
       "    }\n",
       "\n",
       "    .dataframe tbody tr th {\n",
       "        vertical-align: top;\n",
       "    }\n",
       "\n",
       "    .dataframe thead th {\n",
       "        text-align: right;\n",
       "    }\n",
       "</style>\n",
       "<table border=\"1\" class=\"dataframe\">\n",
       "  <thead>\n",
       "    <tr style=\"text-align: right;\">\n",
       "      <th></th>\n",
       "      <th>Name</th>\n",
       "      <th>Rating</th>\n",
       "      <th>Review Count</th>\n",
       "      <th>Price</th>\n",
       "      <th>Street Address</th>\n",
       "      <th>Zip Code</th>\n",
       "      <th>Latitude</th>\n",
       "      <th>Longitude</th>\n",
       "      <th>Url</th>\n",
       "      <th>Category</th>\n",
       "    </tr>\n",
       "  </thead>\n",
       "  <tbody>\n",
       "    <tr>\n",
       "      <th>0</th>\n",
       "      <td>Scott's Pizza Tours</td>\n",
       "      <td>5.0</td>\n",
       "      <td>314</td>\n",
       "      <td>$$</td>\n",
       "      <td>New York, NY 10001</td>\n",
       "      <td>10001.0</td>\n",
       "      <td>40.750244</td>\n",
       "      <td>-73.997025</td>\n",
       "      <td>https://www.yelp.com/biz/scotts-pizza-tours-ne...</td>\n",
       "      <td>Pizza</td>\n",
       "    </tr>\n",
       "    <tr>\n",
       "      <th>1</th>\n",
       "      <td>L'industrie Pizzeria</td>\n",
       "      <td>4.5</td>\n",
       "      <td>532</td>\n",
       "      <td>$</td>\n",
       "      <td>254 S 2nd St</td>\n",
       "      <td>11211.0</td>\n",
       "      <td>40.711620</td>\n",
       "      <td>-73.957830</td>\n",
       "      <td>https://www.yelp.com/biz/l-industrie-pizzeria-...</td>\n",
       "      <td>Pizza</td>\n",
       "    </tr>\n",
       "    <tr>\n",
       "      <th>2</th>\n",
       "      <td>B Side Pizza &amp; Wine Bar</td>\n",
       "      <td>4.5</td>\n",
       "      <td>1140</td>\n",
       "      <td>$$</td>\n",
       "      <td>370 W 51st St</td>\n",
       "      <td>10019.0</td>\n",
       "      <td>40.763940</td>\n",
       "      <td>-73.988340</td>\n",
       "      <td>https://www.yelp.com/biz/b-side-pizza-and-wine...</td>\n",
       "      <td>Pizza</td>\n",
       "    </tr>\n",
       "    <tr>\n",
       "      <th>3</th>\n",
       "      <td>Song E Napule</td>\n",
       "      <td>4.5</td>\n",
       "      <td>483</td>\n",
       "      <td>$$</td>\n",
       "      <td>146 W Houston St</td>\n",
       "      <td>10012.0</td>\n",
       "      <td>40.728130</td>\n",
       "      <td>-74.001880</td>\n",
       "      <td>https://www.yelp.com/biz/song-e-napule-new-yor...</td>\n",
       "      <td>Pizza</td>\n",
       "    </tr>\n",
       "    <tr>\n",
       "      <th>4</th>\n",
       "      <td>Sottocasa Pizzeria - Harlem</td>\n",
       "      <td>4.5</td>\n",
       "      <td>265</td>\n",
       "      <td>$$</td>\n",
       "      <td>227 Lenox Ave</td>\n",
       "      <td>10027.0</td>\n",
       "      <td>40.805587</td>\n",
       "      <td>-73.947547</td>\n",
       "      <td>https://www.yelp.com/biz/sottocasa-pizzeria-ha...</td>\n",
       "      <td>Pizza</td>\n",
       "    </tr>\n",
       "  </tbody>\n",
       "</table>\n",
       "</div>"
      ],
      "text/plain": [
       "                          Name  Rating  Review Count Price  \\\n",
       "0          Scott's Pizza Tours     5.0           314    $$   \n",
       "1         L'industrie Pizzeria     4.5           532     $   \n",
       "2      B Side Pizza & Wine Bar     4.5          1140    $$   \n",
       "3                Song E Napule     4.5           483    $$   \n",
       "4  Sottocasa Pizzeria - Harlem     4.5           265    $$   \n",
       "\n",
       "       Street Address  Zip Code   Latitude  Longitude  \\\n",
       "0  New York, NY 10001   10001.0  40.750244 -73.997025   \n",
       "1        254 S 2nd St   11211.0  40.711620 -73.957830   \n",
       "2       370 W 51st St   10019.0  40.763940 -73.988340   \n",
       "3    146 W Houston St   10012.0  40.728130 -74.001880   \n",
       "4       227 Lenox Ave   10027.0  40.805587 -73.947547   \n",
       "\n",
       "                                                 Url Category  \n",
       "0  https://www.yelp.com/biz/scotts-pizza-tours-ne...    Pizza  \n",
       "1  https://www.yelp.com/biz/l-industrie-pizzeria-...    Pizza  \n",
       "2  https://www.yelp.com/biz/b-side-pizza-and-wine...    Pizza  \n",
       "3  https://www.yelp.com/biz/song-e-napule-new-yor...    Pizza  \n",
       "4  https://www.yelp.com/biz/sottocasa-pizzeria-ha...    Pizza  "
      ]
     },
     "execution_count": 5,
     "metadata": {},
     "output_type": "execute_result"
    }
   ],
   "source": [
    "top_100.head()"
   ]
  },
  {
   "cell_type": "code",
   "execution_count": null,
   "metadata": {},
   "outputs": [],
   "source": []
  }
 ],
 "metadata": {
  "kernelspec": {
   "display_name": "Python 3",
   "language": "python",
   "name": "python3"
  },
  "language_info": {
   "codemirror_mode": {
    "name": "ipython",
    "version": 3
   },
   "file_extension": ".py",
   "mimetype": "text/x-python",
   "name": "python",
   "nbconvert_exporter": "python",
   "pygments_lexer": "ipython3",
   "version": "3.8.3"
  }
 },
 "nbformat": 4,
 "nbformat_minor": 4
}
