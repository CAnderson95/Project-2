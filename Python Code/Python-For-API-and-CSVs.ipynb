{
 "cells": [
  {
   "cell_type": "code",
   "execution_count": 1,
   "metadata": {},
   "outputs": [],
   "source": [
    "import requests"
   ]
  },
  {
   "cell_type": "code",
   "execution_count": 86,
   "metadata": {},
   "outputs": [],
   "source": [
    "API_KEY = \"VbeUrAWtzk3fTnh4BBO6_8KZgF5HH8tEO9Dp1to3y-SiUtVkBW2irEtBIgxj1OIJN-BW3EDvMRItobSZnfPirUiK4rx6VVvDtH4imyz3bJrP37Y0l3F7plWNQ0lBX3Yx\"\n",
    "url = \"https://api.yelp.com/v3/businesses/search\"\n"
   ]
  },
  {
   "cell_type": "code",
   "execution_count": 87,
   "metadata": {},
   "outputs": [],
   "source": [
    "DEFAULT_TERM = \"street vendors\"\n",
    "DEFAULT_LOCATION = \"New York City NY\"\n",
    "SORT = \"rating\"\n",
    "LIMIT = \"50\"\n",
    "OFFSET = \"0\""
   ]
  },
  {
   "cell_type": "code",
   "execution_count": 88,
   "metadata": {},
   "outputs": [],
   "source": [
    "headers = {'Authorization': 'Bearer {}'.format(API_KEY)}\n"
   ]
  },
  {
   "cell_type": "code",
   "execution_count": 89,
   "metadata": {},
   "outputs": [],
   "source": [
    "url_params = {\n",
    "'term': DEFAULT_TERM, \n",
    "'location': DEFAULT_LOCATION, \n",
    "'sort_by': SORT,\n",
    "'limit':LIMIT,\n",
    "'offset':OFFSET\n",
    "}\n",
    "\n"
   ]
  },
  {
   "cell_type": "code",
   "execution_count": 90,
   "metadata": {},
   "outputs": [],
   "source": [
    "response = requests.request('GET', url, headers=headers, params=url_params)\n"
   ]
  },
  {
   "cell_type": "code",
   "execution_count": 91,
   "metadata": {
    "scrolled": true
   },
   "outputs": [],
   "source": [
    "name = []\n",
    "rating = []\n",
    "reviews = []\n",
    "address = []\n",
    "zip_code = []\n",
    "cost = []\n",
    "url = []\n",
    "lat = []\n",
    "lng = []\n",
    "categories = []\n",
    "title = []\n",
    "transactions = []\n",
    "for business in response.json()[\"businesses\"]:\n",
    "        name.append(business[\"name\"])\n",
    "        rating.append(business[\"rating\"])\n",
    "        reviews.append(business[\"review_count\"])\n",
    "        address.append(business[\"location\"][\"display_address\"][0])\n",
    "        try:\n",
    "            cost.append(business[\"price\"])\n",
    "        except:\n",
    "            cost.append(\"No data found\")\n",
    "        zip_code.append(business[\"location\"][\"zip_code\"])\n",
    "        url.append(business[\"url\"])\n",
    "        lat.append(business[\"coordinates\"][\"latitude\"])\n",
    "        lng.append(business[\"coordinates\"][\"longitude\"])\n",
    "        categories.append(business[\"categories\"])\n",
    "        #title.append(business[\"categories\"][\"title\"])\n",
    "        transactions.append(business[\"transactions\"])"
   ]
  },
  {
   "cell_type": "code",
   "execution_count": 92,
   "metadata": {},
   "outputs": [],
   "source": [
    "data = {\"Name\":name,\"Rating\":rating,\"Review Count\":reviews,\"Price\":cost,\"Street Address\":address,\"Zip Code\":zip_code,\"Latitude\":lat,\"Longitude\":lng,\"Url\":url}"
   ]
  },
  {
   "cell_type": "code",
   "execution_count": 93,
   "metadata": {},
   "outputs": [],
   "source": [
    "import pandas as pd\n",
    "df = pd.DataFrame(data)"
   ]
  },
  {
   "cell_type": "code",
   "execution_count": 94,
   "metadata": {},
   "outputs": [],
   "source": [
    "df.to_csv(\"../csv_repository/Top_0-50_NYCstreetvendors.csv\")"
   ]
  },
  {
   "cell_type": "code",
   "execution_count": 101,
   "metadata": {},
   "outputs": [],
   "source": [
    "df1 = pd.read_csv(\"../csv_repository/Top_1-50_NYStyle_Pizza.csv\")\n",
    "df2 = pd.read_csv(\"../csv_repository/Top_50-100_NYStyle_pizza.csv\")\n",
    "df3 = pd.read_csv(\"../csv_repository/Top_0-50_NYStyle_deli.csv\")\n",
    "df4 = pd.read_csv(\"../csv_repository/Top_50-100_NYStyle_deli.csv\")\n",
    "df5 = pd.read_csv(\"../csv_repository/Top_0-50_NYStyle_bagels.csv\")\n",
    "df6 = pd.read_csv(\"../csv_repository/Top_50-100_NYStyle_bagels.csv\")\n",
    "df7 = pd.read_csv(\"../csv_repository/Top_0-50_NYCstreetvendors.csv\")\n",
    "df8 = pd.read_csv(\"../csv_repository/Top_50-100_NYCstreetvendors.csv\")\n"
   ]
  },
  {
   "cell_type": "code",
   "execution_count": 102,
   "metadata": {},
   "outputs": [],
   "source": [
    "pizza = pd.concat([df1, df2])\n",
    "bagel = pd.concat([df5, df6])\n",
    "deli = pd.concat([df3, df4])\n",
    "streetfood = pd.concat([df7, df8])\n"
   ]
  },
  {
   "cell_type": "code",
   "execution_count": 103,
   "metadata": {},
   "outputs": [
    {
     "data": {
      "text/html": [
       "<div>\n",
       "<style scoped>\n",
       "    .dataframe tbody tr th:only-of-type {\n",
       "        vertical-align: middle;\n",
       "    }\n",
       "\n",
       "    .dataframe tbody tr th {\n",
       "        vertical-align: top;\n",
       "    }\n",
       "\n",
       "    .dataframe thead th {\n",
       "        text-align: right;\n",
       "    }\n",
       "</style>\n",
       "<table border=\"1\" class=\"dataframe\">\n",
       "  <thead>\n",
       "    <tr style=\"text-align: right;\">\n",
       "      <th></th>\n",
       "      <th>Unnamed: 0</th>\n",
       "      <th>Name</th>\n",
       "      <th>Rating</th>\n",
       "      <th>Review Count</th>\n",
       "      <th>Price</th>\n",
       "      <th>Street Address</th>\n",
       "      <th>Zip Code</th>\n",
       "      <th>Latitude</th>\n",
       "      <th>Longitude</th>\n",
       "      <th>Url</th>\n",
       "    </tr>\n",
       "  </thead>\n",
       "  <tbody>\n",
       "    <tr>\n",
       "      <th>0</th>\n",
       "      <td>0</td>\n",
       "      <td>Scott's Pizza Tours</td>\n",
       "      <td>5.0</td>\n",
       "      <td>314</td>\n",
       "      <td>$$</td>\n",
       "      <td>New York, NY 10001</td>\n",
       "      <td>10001</td>\n",
       "      <td>40.750244</td>\n",
       "      <td>-73.997025</td>\n",
       "      <td>https://www.yelp.com/biz/scotts-pizza-tours-ne...</td>\n",
       "    </tr>\n",
       "    <tr>\n",
       "      <th>1</th>\n",
       "      <td>1</td>\n",
       "      <td>L'industrie Pizzeria</td>\n",
       "      <td>4.5</td>\n",
       "      <td>532</td>\n",
       "      <td>$</td>\n",
       "      <td>254 S 2nd St</td>\n",
       "      <td>11211</td>\n",
       "      <td>40.711620</td>\n",
       "      <td>-73.957830</td>\n",
       "      <td>https://www.yelp.com/biz/l-industrie-pizzeria-...</td>\n",
       "    </tr>\n",
       "    <tr>\n",
       "      <th>2</th>\n",
       "      <td>2</td>\n",
       "      <td>B Side Pizza &amp; Wine Bar</td>\n",
       "      <td>4.5</td>\n",
       "      <td>1140</td>\n",
       "      <td>$$</td>\n",
       "      <td>370 W 51st St</td>\n",
       "      <td>10019</td>\n",
       "      <td>40.763940</td>\n",
       "      <td>-73.988340</td>\n",
       "      <td>https://www.yelp.com/biz/b-side-pizza-and-wine...</td>\n",
       "    </tr>\n",
       "    <tr>\n",
       "      <th>3</th>\n",
       "      <td>3</td>\n",
       "      <td>Song E Napule</td>\n",
       "      <td>4.5</td>\n",
       "      <td>483</td>\n",
       "      <td>$$</td>\n",
       "      <td>146 W Houston St</td>\n",
       "      <td>10012</td>\n",
       "      <td>40.728130</td>\n",
       "      <td>-74.001880</td>\n",
       "      <td>https://www.yelp.com/biz/song-e-napule-new-yor...</td>\n",
       "    </tr>\n",
       "    <tr>\n",
       "      <th>4</th>\n",
       "      <td>4</td>\n",
       "      <td>Sottocasa Pizzeria - Harlem</td>\n",
       "      <td>4.5</td>\n",
       "      <td>265</td>\n",
       "      <td>$$</td>\n",
       "      <td>227 Lenox Ave</td>\n",
       "      <td>10027</td>\n",
       "      <td>40.805587</td>\n",
       "      <td>-73.947547</td>\n",
       "      <td>https://www.yelp.com/biz/sottocasa-pizzeria-ha...</td>\n",
       "    </tr>\n",
       "  </tbody>\n",
       "</table>\n",
       "</div>"
      ],
      "text/plain": [
       "   Unnamed: 0                         Name  Rating  Review Count Price  \\\n",
       "0           0          Scott's Pizza Tours     5.0           314    $$   \n",
       "1           1         L'industrie Pizzeria     4.5           532     $   \n",
       "2           2      B Side Pizza & Wine Bar     4.5          1140    $$   \n",
       "3           3                Song E Napule     4.5           483    $$   \n",
       "4           4  Sottocasa Pizzeria - Harlem     4.5           265    $$   \n",
       "\n",
       "       Street Address  Zip Code   Latitude  Longitude  \\\n",
       "0  New York, NY 10001     10001  40.750244 -73.997025   \n",
       "1        254 S 2nd St     11211  40.711620 -73.957830   \n",
       "2       370 W 51st St     10019  40.763940 -73.988340   \n",
       "3    146 W Houston St     10012  40.728130 -74.001880   \n",
       "4       227 Lenox Ave     10027  40.805587 -73.947547   \n",
       "\n",
       "                                                 Url  \n",
       "0  https://www.yelp.com/biz/scotts-pizza-tours-ne...  \n",
       "1  https://www.yelp.com/biz/l-industrie-pizzeria-...  \n",
       "2  https://www.yelp.com/biz/b-side-pizza-and-wine...  \n",
       "3  https://www.yelp.com/biz/song-e-napule-new-yor...  \n",
       "4  https://www.yelp.com/biz/sottocasa-pizzeria-ha...  "
      ]
     },
     "execution_count": 103,
     "metadata": {},
     "output_type": "execute_result"
    }
   ],
   "source": [
    "pizza.head()"
   ]
  },
  {
   "cell_type": "code",
   "execution_count": 112,
   "metadata": {},
   "outputs": [],
   "source": [
    "pizza = pizza.drop(columns=[\"Unnamed: 0\"])\n",
    "bagel = bagel.drop(columns = [\"Unnamed: 0\"])\n",
    "deli = deli.drop(columns = [\"Unnamed: 0\"])\n",
    "streetfood = streetfood.drop(columns = [\"Unnamed: 0\"])"
   ]
  },
  {
   "cell_type": "code",
   "execution_count": 113,
   "metadata": {},
   "outputs": [],
   "source": [
    "pizza[\"Category\"] = \"Pizza\"\n",
    "bagel[\"Category\"] = \"Bagel\"\n",
    "deli[\"Category\"] = \"Deli\"\n",
    "streetfood[\"Category\"] = \"Street Food\""
   ]
  },
  {
   "cell_type": "code",
   "execution_count": 114,
   "metadata": {},
   "outputs": [],
   "source": [
    "pizza.to_csv(\"../csv_repository/Top_100_NYStyle_Pizza.csv\")\n",
    "bagel.to_csv(\"../csv_repository/Top_100_NYStyle_Bagel.csv\")\n",
    "deli.to_csv(\"../csv_repository/Top_100_NYStyle_Deli.csv\")\n",
    "streetfood.to_csv(\"../csv_repository/Top_100_NY_streetvendors.csv\")"
   ]
  },
  {
   "cell_type": "code",
   "execution_count": 115,
   "metadata": {},
   "outputs": [
    {
     "data": {
      "text/html": [
       "<div>\n",
       "<style scoped>\n",
       "    .dataframe tbody tr th:only-of-type {\n",
       "        vertical-align: middle;\n",
       "    }\n",
       "\n",
       "    .dataframe tbody tr th {\n",
       "        vertical-align: top;\n",
       "    }\n",
       "\n",
       "    .dataframe thead th {\n",
       "        text-align: right;\n",
       "    }\n",
       "</style>\n",
       "<table border=\"1\" class=\"dataframe\">\n",
       "  <thead>\n",
       "    <tr style=\"text-align: right;\">\n",
       "      <th></th>\n",
       "      <th>Name</th>\n",
       "      <th>Rating</th>\n",
       "      <th>Review Count</th>\n",
       "      <th>Price</th>\n",
       "      <th>Street Address</th>\n",
       "      <th>Zip Code</th>\n",
       "      <th>Latitude</th>\n",
       "      <th>Longitude</th>\n",
       "      <th>Url</th>\n",
       "      <th>Category</th>\n",
       "    </tr>\n",
       "  </thead>\n",
       "  <tbody>\n",
       "    <tr>\n",
       "      <th>0</th>\n",
       "      <td>Scott's Pizza Tours</td>\n",
       "      <td>5.0</td>\n",
       "      <td>314</td>\n",
       "      <td>$$</td>\n",
       "      <td>New York, NY 10001</td>\n",
       "      <td>10001</td>\n",
       "      <td>40.750244</td>\n",
       "      <td>-73.997025</td>\n",
       "      <td>https://www.yelp.com/biz/scotts-pizza-tours-ne...</td>\n",
       "      <td>Pizza</td>\n",
       "    </tr>\n",
       "    <tr>\n",
       "      <th>1</th>\n",
       "      <td>L'industrie Pizzeria</td>\n",
       "      <td>4.5</td>\n",
       "      <td>532</td>\n",
       "      <td>$</td>\n",
       "      <td>254 S 2nd St</td>\n",
       "      <td>11211</td>\n",
       "      <td>40.711620</td>\n",
       "      <td>-73.957830</td>\n",
       "      <td>https://www.yelp.com/biz/l-industrie-pizzeria-...</td>\n",
       "      <td>Pizza</td>\n",
       "    </tr>\n",
       "    <tr>\n",
       "      <th>2</th>\n",
       "      <td>B Side Pizza &amp; Wine Bar</td>\n",
       "      <td>4.5</td>\n",
       "      <td>1140</td>\n",
       "      <td>$$</td>\n",
       "      <td>370 W 51st St</td>\n",
       "      <td>10019</td>\n",
       "      <td>40.763940</td>\n",
       "      <td>-73.988340</td>\n",
       "      <td>https://www.yelp.com/biz/b-side-pizza-and-wine...</td>\n",
       "      <td>Pizza</td>\n",
       "    </tr>\n",
       "    <tr>\n",
       "      <th>3</th>\n",
       "      <td>Song E Napule</td>\n",
       "      <td>4.5</td>\n",
       "      <td>483</td>\n",
       "      <td>$$</td>\n",
       "      <td>146 W Houston St</td>\n",
       "      <td>10012</td>\n",
       "      <td>40.728130</td>\n",
       "      <td>-74.001880</td>\n",
       "      <td>https://www.yelp.com/biz/song-e-napule-new-yor...</td>\n",
       "      <td>Pizza</td>\n",
       "    </tr>\n",
       "    <tr>\n",
       "      <th>4</th>\n",
       "      <td>Sottocasa Pizzeria - Harlem</td>\n",
       "      <td>4.5</td>\n",
       "      <td>265</td>\n",
       "      <td>$$</td>\n",
       "      <td>227 Lenox Ave</td>\n",
       "      <td>10027</td>\n",
       "      <td>40.805587</td>\n",
       "      <td>-73.947547</td>\n",
       "      <td>https://www.yelp.com/biz/sottocasa-pizzeria-ha...</td>\n",
       "      <td>Pizza</td>\n",
       "    </tr>\n",
       "  </tbody>\n",
       "</table>\n",
       "</div>"
      ],
      "text/plain": [
       "                          Name  Rating  Review Count Price  \\\n",
       "0          Scott's Pizza Tours     5.0           314    $$   \n",
       "1         L'industrie Pizzeria     4.5           532     $   \n",
       "2      B Side Pizza & Wine Bar     4.5          1140    $$   \n",
       "3                Song E Napule     4.5           483    $$   \n",
       "4  Sottocasa Pizzeria - Harlem     4.5           265    $$   \n",
       "\n",
       "       Street Address  Zip Code   Latitude  Longitude  \\\n",
       "0  New York, NY 10001     10001  40.750244 -73.997025   \n",
       "1        254 S 2nd St     11211  40.711620 -73.957830   \n",
       "2       370 W 51st St     10019  40.763940 -73.988340   \n",
       "3    146 W Houston St     10012  40.728130 -74.001880   \n",
       "4       227 Lenox Ave     10027  40.805587 -73.947547   \n",
       "\n",
       "                                                 Url Category  \n",
       "0  https://www.yelp.com/biz/scotts-pizza-tours-ne...    Pizza  \n",
       "1  https://www.yelp.com/biz/l-industrie-pizzeria-...    Pizza  \n",
       "2  https://www.yelp.com/biz/b-side-pizza-and-wine...    Pizza  \n",
       "3  https://www.yelp.com/biz/song-e-napule-new-yor...    Pizza  \n",
       "4  https://www.yelp.com/biz/sottocasa-pizzeria-ha...    Pizza  "
      ]
     },
     "execution_count": 115,
     "metadata": {},
     "output_type": "execute_result"
    }
   ],
   "source": [
    "pizza.head()"
   ]
  },
  {
   "cell_type": "code",
   "execution_count": null,
   "metadata": {},
   "outputs": [],
   "source": []
  }
 ],
 "metadata": {
  "kernelspec": {
   "display_name": "Python 3",
   "language": "python",
   "name": "python3"
  },
  "language_info": {
   "codemirror_mode": {
    "name": "ipython",
    "version": 3
   },
   "file_extension": ".py",
   "mimetype": "text/x-python",
   "name": "python",
   "nbconvert_exporter": "python",
   "pygments_lexer": "ipython3",
   "version": "3.7.6"
  }
 },
 "nbformat": 4,
 "nbformat_minor": 4
}
